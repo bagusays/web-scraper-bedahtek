{
 "cells": [
  {
   "cell_type": "markdown",
   "id": "5c502563",
   "metadata": {},
   "source": [
    "### Goal & Problem Statement\n",
    "Si Dudung punya akun Twitter dan Instagram dengan followers diatas 50K. Dengan konten utamanya dia yaitu nge-share2 info diskon apapun termasuk diskon2 dari LinkAja. Gimana caranya dia dapetin info diskon dari LinkAja secara efektif?\n",
    "\n",
    "### Approaches\n",
    "- Tiap hari di jam tertentu dia harus buka aplikasi LinkAja buat liat diskon apa aja yg baru rilis.\n",
    "  - Pros: gampang, tinggal buka aplikasi\n",
    "  - Cons: repetitif, bayangin kalo dia punya 20+ platform/konten yg harus di cek satu2 setiap hari. Sama sekali ga realtime\n",
    "- Nungguin notifikasi dari aplikasi yg ngasih tau info diskon.\n",
    "  - Pros: udah dikasih tau, tinggal nunggu notif yg masuk tanpa perlu buka apps nya buat ngecek manual. Bisa jadi info diskon benar2 realtime dan fresh.\n",
    "  - Cons: ga semua info di blast. Notif bisa ketumpuk sama notif lain, dan terkadang main asal swipe buat clear notif\n",
    "- Buat automasi supaya dia bisa dapetin info diskon.\n",
    "  - Pros: otomatis, bisa dikirim ke Telegram atau disimpen di database. Gaperlu ngelakuin hal repetitif juga.\n",
    "  - Cons: perlu develop si automasi tsb. perlu cost tambahan buat sewa server. ga realtime2 amat."
   ]
  },
  {
   "cell_type": "code",
   "execution_count": null,
   "id": "6823183a",
   "metadata": {},
   "outputs": [],
   "source": [
    "import os\n",
    "import time\n",
    "import json\n",
    "\n",
    "from bs4 import BeautifulSoup\n",
    "from selenium import webdriver\n",
    "from selenium.webdriver.support.ui import WebDriverWait\n",
    "from selenium.webdriver.support import expected_conditions as EC\n",
    "from selenium.webdriver.common.by import By"
   ]
  },
  {
   "cell_type": "markdown",
   "id": "f66b148c",
   "metadata": {},
   "source": [
    "## Chrome Options"
   ]
  },
  {
   "cell_type": "code",
   "execution_count": null,
   "id": "d69e92a5",
   "metadata": {},
   "outputs": [],
   "source": [
    "chrome_options = webdriver.ChromeOptions()  \n",
    "chrome_options.add_argument(\"user-agent=Mozilla/5.0 (Windows NT 10.0; Win64; x64) AppleWebKit/537.36 (KHTML, like Gecko) Chrome/97.0.4692.71 Safari/537.36\")\n",
    "chrome_options.add_argument(\"window-size=1024,720\")\n",
    "# chrome_options.add_argument(\"--headless\")"
   ]
  },
  {
   "cell_type": "code",
   "execution_count": null,
   "id": "4611ffaf",
   "metadata": {},
   "outputs": [],
   "source": [
    "driver = webdriver.Chrome(executable_path=os.path.abspath(\"chromedriver\"), options=chrome_options)"
   ]
  },
  {
   "cell_type": "code",
   "execution_count": null,
   "id": "468991ae",
   "metadata": {},
   "outputs": [],
   "source": [
    "URL = \"https://www.linkaja.id/merchants/linkaja\""
   ]
  },
  {
   "cell_type": "markdown",
   "id": "61a3fc9b",
   "metadata": {},
   "source": [
    "## Let's scrape!"
   ]
  },
  {
   "cell_type": "code",
   "execution_count": null,
   "id": "f020d350",
   "metadata": {},
   "outputs": [],
   "source": [
    "driver.get(URL)\n",
    "html = driver.page_source\n",
    "soup = BeautifulSoup(html, 'html.parser')\n",
    "articles = soup.find_all(attrs={\"class\": \"card card-promo animated fadeInUp delayp1\"}) # by class\n",
    "result = []\n",
    "\n",
    "for idx, article in enumerate(articles):\n",
    "    link = article[\"href\"]\n",
    "    driver.execute_script('window.open(\"{}\",\"_blank\");'.format(link)) # open new tab\n",
    "    driver.switch_to.window(driver.window_handles[1])\n",
    "    WebDriverWait(driver, 5).until(EC.visibility_of_element_located((By.CSS_SELECTOR, \".container\")))\n",
    "\n",
    "    html_detail_page = driver.page_source\n",
    "    detail_page = BeautifulSoup(html_detail_page, 'html.parser')\n",
    "\n",
    "    title = detail_page.select_one(\".container\").select_one(\"h1\").text # builder pattern\n",
    "    content = detail_page.select_one(\"div.content > div > div.col-md-7.animated.fadeInUp.delayp5 > p:nth-child(2) > span > span\").text # querySelector\n",
    "\n",
    "    driver.close()\n",
    "    driver.switch_to.window(driver.window_handles[0])\n",
    "\n",
    "    print(\"[TITLE] {}\".format(title))\n",
    "    print(\"[CONTENT]\\n{}\\n\".format(content))\n",
    "    print(\"-----------------\\n\")\n",
    "    \n",
    "    result.append({\n",
    "        \"title\": title,\n",
    "        \"content\": content\n",
    "    })\n",
    "    \n",
    "    # do something else\n",
    "    \n",
    "    if idx == 2:\n",
    "        break\n",
    "        \n",
    "with open('data.json', 'w') as f:\n",
    "    json.dump(result, f)\n",
    "    \n",
    "driver.close()"
   ]
  },
  {
   "cell_type": "code",
   "execution_count": null,
   "id": "e598a7a3",
   "metadata": {},
   "outputs": [],
   "source": []
  }
 ],
 "metadata": {
  "kernelspec": {
   "display_name": "Python 3",
   "language": "python",
   "name": "python3"
  },
  "language_info": {
   "codemirror_mode": {
    "name": "ipython",
    "version": 3
   },
   "file_extension": ".py",
   "mimetype": "text/x-python",
   "name": "python",
   "nbconvert_exporter": "python",
   "pygments_lexer": "ipython3",
   "version": "3.9.7"
  }
 },
 "nbformat": 4,
 "nbformat_minor": 5
}
